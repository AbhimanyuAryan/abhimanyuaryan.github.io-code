{
  "cells": [
    {
      "cell_type": "code",
      "execution_count": 1,
      "id": "018c3477-2e61-447e-a79d-494da95b1e22",
      "metadata": {
        "id": "018c3477-2e61-447e-a79d-494da95b1e22"
      },
      "outputs": [],
      "source": [
        "import pickle,gzip,math,os,time,shutil,torch,matplotlib as mpl, numpy as np\n",
        "from pathlib import Path\n",
        "from torch import tensor"
      ]
    },
    {
      "cell_type": "code",
      "execution_count": null,
      "id": "e8229dd7-6b26-4804-9e5d-749f9b6fadb7",
      "metadata": {
        "id": "e8229dd7-6b26-4804-9e5d-749f9b6fadb7"
      },
      "outputs": [],
      "source": []
    }
  ],
  "metadata": {
    "kernelspec": {
      "display_name": "Python 3",
      "name": "python3"
    },
    "language_info": {
      "codemirror_mode": {
        "name": "ipython",
        "version": 3
      },
      "file_extension": ".py",
      "mimetype": "text/x-python",
      "name": "python",
      "nbconvert_exporter": "python",
      "pygments_lexer": "ipython3",
      "version": "3.10.0"
    },
    "colab": {
      "provenance": [],
      "gpuType": "T4"
    },
    "accelerator": "GPU"
  },
  "nbformat": 4,
  "nbformat_minor": 5
}