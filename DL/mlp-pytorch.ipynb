{
  "cells": [
    {
      "cell_type": "code",
      "execution_count": 9,
      "id": "018c3477-2e61-447e-a79d-494da95b1e22",
      "metadata": {
        "id": "018c3477-2e61-447e-a79d-494da95b1e22"
      },
      "outputs": [],
      "source": [
        "import pickle,gzip,math,os,time,shutil,torch,matplotlib as mpl, numpy as np\n",
        "from pathlib import Path\n",
        "from torch import tensor"
      ]
    },
    {
      "cell_type": "code",
      "execution_count": 10,
      "id": "e8229dd7-6b26-4804-9e5d-749f9b6fadb7",
      "metadata": {
        "id": "e8229dd7-6b26-4804-9e5d-749f9b6fadb7"
      },
      "outputs": [],
      "source": [
        "torch.manual_seed(42)\n",
        "\n",
        "mpl.rcParams['image.cmap'] = 'gray'\n",
        "torch.set_printoptions(precision=2, linewidth=125, sci_mode=False)\n",
        "np.set_printoptions(precision=2, linewidth=125)"
      ]
    },
    {
      "cell_type": "code",
      "source": [
        "!wget https://github.com/mnielsen/neural-networks-and-deep-learning/raw/master/data/mnist.pkl.gz -P data/"
      ],
      "metadata": {
        "id": "X2CrzTnyAIB9",
        "outputId": "aa148650-5d15-4242-d99e-d63cc86473fe",
        "colab": {
          "base_uri": "https://localhost:8080/"
        }
      },
      "id": "X2CrzTnyAIB9",
      "execution_count": 32,
      "outputs": [
        {
          "output_type": "stream",
          "name": "stdout",
          "text": [
            "--2024-02-19 02:24:44--  https://github.com/mnielsen/neural-networks-and-deep-learning/raw/master/data/mnist.pkl.gz\n",
            "Resolving github.com (github.com)... 140.82.114.4\n",
            "Connecting to github.com (github.com)|140.82.114.4|:443... connected.\n",
            "HTTP request sent, awaiting response... 302 Found\n",
            "Location: https://raw.githubusercontent.com/mnielsen/neural-networks-and-deep-learning/master/data/mnist.pkl.gz [following]\n",
            "--2024-02-19 02:24:44--  https://raw.githubusercontent.com/mnielsen/neural-networks-and-deep-learning/master/data/mnist.pkl.gz\n",
            "Resolving raw.githubusercontent.com (raw.githubusercontent.com)... 185.199.108.133, 185.199.109.133, 185.199.110.133, ...\n",
            "Connecting to raw.githubusercontent.com (raw.githubusercontent.com)|185.199.108.133|:443... connected.\n",
            "HTTP request sent, awaiting response... 200 OK\n",
            "Length: 17051982 (16M) [application/octet-stream]\n",
            "Saving to: ‘data/mnist.pkl.gz’\n",
            "\n",
            "mnist.pkl.gz        100%[===================>]  16.26M  91.0MB/s    in 0.2s    \n",
            "\n",
            "2024-02-19 02:24:44 (91.0 MB/s) - ‘data/mnist.pkl.gz’ saved [17051982/17051982]\n",
            "\n"
          ]
        }
      ]
    },
    {
      "cell_type": "code",
      "source": [
        "import gzip\n",
        "import shutil\n",
        "\n",
        "# Define the path to the gzip (.gz) file\n",
        "gz_file_path = 'data/mnist.pkl.gz'\n",
        "# Define the output path for the decompressed file (same directory, without .gz)\n",
        "pkl_file_path = gz_file_path.rstrip('.gz')\n",
        "\n",
        "# Decompress the .gz file and write the contents to a new file\n",
        "with gzip.open(gz_file_path, 'rb') as f_in:\n",
        "    with open(pkl_file_path, 'wb') as f_out:\n",
        "        shutil.copyfileobj(f_in, f_out)\n",
        "\n",
        "print(f\"Unzipped file saved to: {pkl_file_path}\")\n"
      ],
      "metadata": {
        "id": "tvlUuzwXK9bL",
        "outputId": "11d0219d-5c02-49ef-dc26-3dc8d234b8a6",
        "colab": {
          "base_uri": "https://localhost:8080/"
        }
      },
      "id": "tvlUuzwXK9bL",
      "execution_count": 33,
      "outputs": [
        {
          "output_type": "stream",
          "name": "stdout",
          "text": [
            "Unzipped file saved to: data/mnist.pkl\n"
          ]
        }
      ]
    },
    {
      "cell_type": "code",
      "source": [
        "with open(pkl_file_path, 'rb') as f:\n",
        "    ((x_train, y_train), (x_valid, y_valid), _) = pickle.load(f, encoding='latin-1')"
      ],
      "metadata": {
        "id": "zFhpZya2L66R"
      },
      "id": "zFhpZya2L66R",
      "execution_count": 35,
      "outputs": []
    },
    {
      "cell_type": "code",
      "source": [
        "x_train, y_train, x_valid, y_valid = map(tensor, [x_train, y_train, x_valid, y_valid])"
      ],
      "metadata": {
        "id": "wNF-rOhyMJD2"
      },
      "id": "wNF-rOhyMJD2",
      "execution_count": 36,
      "outputs": []
    },
    {
      "cell_type": "code",
      "source": [
        "x_train.shape"
      ],
      "metadata": {
        "id": "kQLwvio0MWia",
        "outputId": "60ce1596-16f5-4739-ee7f-fbd7abca7865",
        "colab": {
          "base_uri": "https://localhost:8080/"
        }
      },
      "id": "kQLwvio0MWia",
      "execution_count": 37,
      "outputs": [
        {
          "output_type": "execute_result",
          "data": {
            "text/plain": [
              "torch.Size([50000, 784])"
            ]
          },
          "metadata": {},
          "execution_count": 37
        }
      ]
    },
    {
      "cell_type": "code",
      "source": [
        "import matplotlib.pyplot as plt\n",
        "\n",
        "first_image = x_train[1]\n",
        "\n",
        "# Assuming first_image is a flattened array of shape (784,)\n",
        "# Reshape it to 2D array (28, 28) for MNIST images\n",
        "first_image_reshaped = first_image.reshape(28, 28)\n",
        "\n",
        "# Now use matplotlib to display the reshaped image\n",
        "plt.imshow(first_image_reshaped, cmap='gray')\n",
        "plt.title('First Image from Training Set')\n",
        "plt.axis('off')\n",
        "plt.show()"
      ],
      "metadata": {
        "id": "7DOVa6rPMYpa",
        "outputId": "ea25e2a4-f39f-409a-9e7a-d646fe3aa347",
        "colab": {
          "base_uri": "https://localhost:8080/",
          "height": 428
        }
      },
      "id": "7DOVa6rPMYpa",
      "execution_count": 42,
      "outputs": [
        {
          "output_type": "display_data",
          "data": {
            "text/plain": [
              "<Figure size 640x480 with 1 Axes>"
            ],
            "image/png": "[encoded data removed]"
          },
          "metadata": {}
        }
      ]
    },
    {
      "cell_type": "code",
      "source": [],
      "metadata": {
        "id": "hkFaODT5Mgin"
      },
      "id": "hkFaODT5Mgin",
      "execution_count": null,
      "outputs": []
    }
  ],
  "metadata": {
    "kernelspec": {
      "display_name": "Python 3",
      "name": "python3"
    },
    "language_info": {
      "codemirror_mode": {
        "name": "ipython",
        "version": 3
      },
      "file_extension": ".py",
      "mimetype": "text/x-python",
      "name": "python",
      "nbconvert_exporter": "python",
      "pygments_lexer": "ipython3",
      "version": "3.10.0"
    },
    "colab": {
      "provenance": [],
      "gpuType": "T4"
    },
    "accelerator": "GPU"
  },
  "nbformat": 4,
  "nbformat_minor": 5
}